{
 "cells": [
  {
   "cell_type": "markdown",
   "metadata": {},
   "source": [
    "# Observaciones y variables\n",
    "\n",
    "Datos y parámetros (no observables) que representan el mundo y no solo la muestra.\n",
    "\n",
    "\n",
    "\n",
    "\n",
    "## Tipos de variables\n",
    "\n",
    "Categóricos, ordinales, discretos, continuos\n",
    "\n",
    "Univariado, Bivariado, Multivariado\n",
    "\n",
    "Variables explicativas, variables de respuesta"
   ]
  }
 ],
 "metadata": {
  "jupytext": {
   "formats": "md:myst",
   "text_representation": {
    "extension": ".md",
    "format_name": "myst",
    "format_version": 0.13,
    "jupytext_version": "1.11.5"
   }
  },
  "kernelspec": {
   "display_name": "Python 3",
   "language": "python",
   "name": "python3"
  },
  "language_info": {
   "codemirror_mode": {
    "name": "ipython",
    "version": 3
   },
   "file_extension": ".py",
   "mimetype": "text/x-python",
   "name": "python",
   "nbconvert_exporter": "python",
   "pygments_lexer": "ipython3",
   "version": "3.7.7"
  },
  "source_map": [
   13
  ]
 },
 "nbformat": 4,
 "nbformat_minor": 4
}